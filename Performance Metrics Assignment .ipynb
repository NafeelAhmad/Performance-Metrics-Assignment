{
 "cells": [
  {
   "cell_type": "markdown",
   "metadata": {},
   "source": [
    "# Compute performance metrics for the given Y and Y_score without sklearn"
   ]
  },
  {
   "cell_type": "markdown",
   "metadata": {},
   "source": [
    "## A. Compute performance metrics for the given data '5_a.csv'\n",
    "\n",
    " <pre>  <b>Note 1:</b> in this data you can see number of positive points >> number of negatives points\n",
    "   <b>Note 2:</b> use pandas or numpy to read the data from <b>5_a.csv</b>\n",
    "   <b>Note 3:</b> you need to derive the class labels from given score</pre> $y^{pred}= \\text{[0 if y_score < 0.5 else 1]}$\n",
    "\n",
    "<pre>\n",
    "<ol>\n",
    "<li> Compute Confusion Matrix </li>\n",
    "<li> Compute F1 Score </li>\n",
    "<li> Compute AUC Score, you need to compute different thresholds and for each threshold compute tpr,fpr and then use               numpy.trapz(tpr_array, fpr_array) \n",
    "Note- Make sure that you arrange your probability scores in descending order while calculating AUC</li>\n",
    "<li> Compute Accuracy Score </li>\n",
    "</ol>\n",
    "</pre>"
   ]
  },
  {
   "cell_type": "code",
   "execution_count": 21,
   "metadata": {},
   "outputs": [],
   "source": [
    "import numpy as np\n",
    "import pandas as pd"
   ]
  },
  {
   "cell_type": "code",
   "execution_count": 22,
   "metadata": {},
   "outputs": [],
   "source": [
    "df = pd.read_csv(r'C:\\Users\\NADEEM\\Downloads\\5_a.csv')"
   ]
  },
  {
   "cell_type": "code",
   "execution_count": 23,
   "metadata": {},
   "outputs": [
    {
     "data": {
      "text/plain": [
       "(10100, 2)"
      ]
     },
     "execution_count": 23,
     "metadata": {},
     "output_type": "execute_result"
    }
   ],
   "source": [
    "df.shape"
   ]
  },
  {
   "cell_type": "code",
   "execution_count": 24,
   "metadata": {
    "scrolled": true
   },
   "outputs": [
    {
     "data": {
      "text/html": [
       "<div>\n",
       "<style scoped>\n",
       "    .dataframe tbody tr th:only-of-type {\n",
       "        vertical-align: middle;\n",
       "    }\n",
       "\n",
       "    .dataframe tbody tr th {\n",
       "        vertical-align: top;\n",
       "    }\n",
       "\n",
       "    .dataframe thead th {\n",
       "        text-align: right;\n",
       "    }\n",
       "</style>\n",
       "<table border=\"1\" class=\"dataframe\">\n",
       "  <thead>\n",
       "    <tr style=\"text-align: right;\">\n",
       "      <th></th>\n",
       "      <th>y</th>\n",
       "      <th>proba</th>\n",
       "    </tr>\n",
       "  </thead>\n",
       "  <tbody>\n",
       "    <tr>\n",
       "      <th>0</th>\n",
       "      <td>1.0</td>\n",
       "      <td>0.637387</td>\n",
       "    </tr>\n",
       "    <tr>\n",
       "      <th>1</th>\n",
       "      <td>1.0</td>\n",
       "      <td>0.635165</td>\n",
       "    </tr>\n",
       "    <tr>\n",
       "      <th>2</th>\n",
       "      <td>1.0</td>\n",
       "      <td>0.766586</td>\n",
       "    </tr>\n",
       "    <tr>\n",
       "      <th>3</th>\n",
       "      <td>1.0</td>\n",
       "      <td>0.724564</td>\n",
       "    </tr>\n",
       "    <tr>\n",
       "      <th>4</th>\n",
       "      <td>1.0</td>\n",
       "      <td>0.889199</td>\n",
       "    </tr>\n",
       "  </tbody>\n",
       "</table>\n",
       "</div>"
      ],
      "text/plain": [
       "     y     proba\n",
       "0  1.0  0.637387\n",
       "1  1.0  0.635165\n",
       "2  1.0  0.766586\n",
       "3  1.0  0.724564\n",
       "4  1.0  0.889199"
      ]
     },
     "execution_count": 24,
     "metadata": {},
     "output_type": "execute_result"
    }
   ],
   "source": [
    "df.head()"
   ]
  },
  {
   "cell_type": "code",
   "execution_count": 25,
   "metadata": {},
   "outputs": [
    {
     "data": {
      "text/html": [
       "<div>\n",
       "<style scoped>\n",
       "    .dataframe tbody tr th:only-of-type {\n",
       "        vertical-align: middle;\n",
       "    }\n",
       "\n",
       "    .dataframe tbody tr th {\n",
       "        vertical-align: top;\n",
       "    }\n",
       "\n",
       "    .dataframe thead th {\n",
       "        text-align: right;\n",
       "    }\n",
       "</style>\n",
       "<table border=\"1\" class=\"dataframe\">\n",
       "  <thead>\n",
       "    <tr style=\"text-align: right;\">\n",
       "      <th></th>\n",
       "      <th>y</th>\n",
       "      <th>proba</th>\n",
       "      <th>y_pred</th>\n",
       "    </tr>\n",
       "  </thead>\n",
       "  <tbody>\n",
       "    <tr>\n",
       "      <th>0</th>\n",
       "      <td>1.0</td>\n",
       "      <td>0.637387</td>\n",
       "      <td>1</td>\n",
       "    </tr>\n",
       "    <tr>\n",
       "      <th>1</th>\n",
       "      <td>1.0</td>\n",
       "      <td>0.635165</td>\n",
       "      <td>1</td>\n",
       "    </tr>\n",
       "    <tr>\n",
       "      <th>2</th>\n",
       "      <td>1.0</td>\n",
       "      <td>0.766586</td>\n",
       "      <td>1</td>\n",
       "    </tr>\n",
       "    <tr>\n",
       "      <th>3</th>\n",
       "      <td>1.0</td>\n",
       "      <td>0.724564</td>\n",
       "      <td>1</td>\n",
       "    </tr>\n",
       "    <tr>\n",
       "      <th>4</th>\n",
       "      <td>1.0</td>\n",
       "      <td>0.889199</td>\n",
       "      <td>1</td>\n",
       "    </tr>\n",
       "  </tbody>\n",
       "</table>\n",
       "</div>"
      ],
      "text/plain": [
       "     y     proba  y_pred\n",
       "0  1.0  0.637387       1\n",
       "1  1.0  0.635165       1\n",
       "2  1.0  0.766586       1\n",
       "3  1.0  0.724564       1\n",
       "4  1.0  0.889199       1"
      ]
     },
     "execution_count": 25,
     "metadata": {},
     "output_type": "execute_result"
    }
   ],
   "source": [
    "t_hold = 0.5\n",
    "df['y_pred'] = (df.proba >= 0.5).astype('int')\n",
    "df.head()"
   ]
  },
  {
   "cell_type": "markdown",
   "metadata": {},
   "source": [
    "### Computing Confusion Matrix, F1 Score, Accuracy Score"
   ]
  },
  {
   "cell_type": "code",
   "execution_count": 26,
   "metadata": {},
   "outputs": [],
   "source": [
    "def comp_TP_TN_FP_FN(y,y_pred):\n",
    "    '''\n",
    "    True Positive(TP): [actual,prediction]=[1,1]\n",
    "    True Negetive(TN): [actual,prediction]=[0,0]\n",
    "    False Positive(FP): [actual,prediction]=[0,1]\n",
    "    False Negetive(FN): [actual,prediction]=[1,0]\n",
    "    '''\n",
    "    TP = sum((y == 1) &(y_pred==1))\n",
    "    TN = sum((y == 0) &(y_pred==0))\n",
    "    FP = sum((y == 0) &(y_pred==1))\n",
    "    FN = sum((y == 1) &(y_pred==0))\n",
    "    return TP, TN, FP, FN\n",
    "\n",
    "def acc_score(TP, TN, FP, FN):\n",
    "    '''\n",
    "    ACCURACY = TP+TN/TP+TN+FP+FN\n",
    "    '''\n",
    "    return ((TP+TN)*100)/float(TP+TN+FP+FN)\n",
    "\n",
    "def comp_precision(TP, FP):\n",
    "    '''\n",
    "    PRECISION : TP/TP+FP\n",
    "    '''\n",
    "    return TP/(TP+FP)\n",
    "\n",
    "def comp_recall(TP, FN):\n",
    "    '''\n",
    "    RECALL: TP/TP+FN\n",
    "    '''\n",
    "    return TP/(TP+FN)\n",
    "\n",
    "def f_score(y, y_pred):\n",
    "    '''\n",
    "    F1_Score : (2*Pr*Re)/(Pr+Re)\n",
    "    '''\n",
    "    TP, TN, FP, FN = comp_TP_TN_FP_FN(y,y_pred)\n",
    "    Precision = comp_precision(TP, FP)\n",
    "    Recall = comp_recall(TP, FN)\n",
    "    F1_score = (2*Precision*Recall)/(Precision+Recall)\n",
    "    return F1_score"
   ]
  },
  {
   "cell_type": "code",
   "execution_count": 27,
   "metadata": {
    "scrolled": true
   },
   "outputs": [
    {
     "name": "stdout",
     "output_type": "stream",
     "text": [
      "TP:  10000\n",
      "TN:  0\n",
      "FP:  100\n",
      "FN:  0\n"
     ]
    }
   ],
   "source": [
    "TP_C, TN_C, FP_C, FN_C = comp_TP_TN_FP_FN(df.y, df.y_pred)\n",
    "print('TP: ',TP_C)\n",
    "print('TN: ',TN_C)\n",
    "print('FP: ',FP_C)\n",
    "print('FN: ',FN_C)"
   ]
  },
  {
   "cell_type": "code",
   "execution_count": 28,
   "metadata": {},
   "outputs": [
    {
     "name": "stdout",
     "output_type": "stream",
     "text": [
      "Accuracy Score:  99.00990099009901\n"
     ]
    }
   ],
   "source": [
    "print('Accuracy Score: ',acc_score(TP_C, TN_C, FP_C, FN_C))"
   ]
  },
  {
   "cell_type": "code",
   "execution_count": 29,
   "metadata": {},
   "outputs": [
    {
     "name": "stdout",
     "output_type": "stream",
     "text": [
      "Precision:  0.9900990099009901\n"
     ]
    }
   ],
   "source": [
    "print('Precision: ',comp_precision(TP_C, FP_C))"
   ]
  },
  {
   "cell_type": "code",
   "execution_count": 30,
   "metadata": {
    "scrolled": true
   },
   "outputs": [
    {
     "name": "stdout",
     "output_type": "stream",
     "text": [
      "Recall:  1.0\n"
     ]
    }
   ],
   "source": [
    "print(\"Recall: \",comp_recall(TP_C, FN_C))"
   ]
  },
  {
   "cell_type": "code",
   "execution_count": 31,
   "metadata": {},
   "outputs": [],
   "source": [
    "Pr = comp_precision(TP_C, FP_C)\n",
    "Re = comp_recall(TP_C, FN_C)"
   ]
  },
  {
   "cell_type": "code",
   "execution_count": 32,
   "metadata": {},
   "outputs": [
    {
     "name": "stdout",
     "output_type": "stream",
     "text": [
      "F1_Score:  0.9950248756218906\n"
     ]
    }
   ],
   "source": [
    "print('F1_Score: ',f_score(df.y, df.y_pred))"
   ]
  },
  {
   "cell_type": "code",
   "execution_count": 33,
   "metadata": {},
   "outputs": [],
   "source": [
    "def get_single_tpr_fpr(df):\n",
    "    \n",
    "    tp = ((df['y'] == 1.0 ) & (df['y_predicted'] == 1)).sum()\n",
    "    fp = ((df['y'] == 0.0 ) & (df['y_predicted'] == 1)).sum()\n",
    "    tn = ((df['y'] == 0.0 ) & (df['y_predicted'] == 0)).sum()\n",
    "    fn = ((df['y'] == 1.0 ) & (df['y_predicted'] == 0)).sum()\n",
    "\n",
    "    tpr = tp / (tp + fn )\n",
    "    fpr = fp / (fp + tn)\n",
    "\n",
    "    return [tpr, fpr]\n",
    "\n",
    "\n",
    "# While computing AUC score we need to calculate \"TP,\"FP\" at every threshold by using actual \"y\" and predicted \"y_pred\".\n",
    "\n",
    "def calculate_all_thresholds_tpr_fpr_arr(df_original):\n",
    "\n",
    "    tpr_arr_for_all_thresholds = []\n",
    "    fpr_arr_for_all_thresholds = []\n",
    "\n",
    "    sorted_df = df_original.sort_values(by=['proba'], ascending=False)\n",
    "\n",
    "    unique_prob_thres = sorted_df['proba'].unique()\n",
    "\n",
    "    for threshold in tqdm(unique_prob_thres):\n",
    "        sorted_df['y_predicted'] = np.where(sorted_df['proba'] >= threshold, 1, 0)\n",
    "        tpr_fpr_arr = get_single_tpr_fpr(sorted_df)\n",
    "        tpr_arr_for_all_thresholds.append(tpr_fpr_arr[0])\n",
    "        fpr_arr_for_all_thresholds.append(tpr_fpr_arr[1])\n",
    "\n",
    "    return tpr_arr_for_all_thresholds, fpr_arr_for_all_thresholds"
   ]
  },
  {
   "cell_type": "code",
   "execution_count": 34,
   "metadata": {},
   "outputs": [
    {
     "name": "stderr",
     "output_type": "stream",
     "text": [
      "100%|███████████████████████████████████████████████████████████████████████████| 10100/10100 [01:10<00:00, 142.69it/s]"
     ]
    },
    {
     "name": "stdout",
     "output_type": "stream",
     "text": [
      "My Custom function ROC-AUC Score for 5_a.csv:  0.48829900000000004\n",
      "0.511701\n"
     ]
    },
    {
     "name": "stderr",
     "output_type": "stream",
     "text": [
      "\n"
     ]
    }
   ],
   "source": [
    "from tqdm import tqdm\n",
    "all_tpr_together_5a, all_fpr_together_5a = calculate_all_thresholds_tpr_fpr_arr(df)\n",
    "auc_score_5a = np.trapz(all_tpr_together_5a, all_fpr_together_5a)\n",
    "print('My Custom function ROC-AUC Score for 5_a.csv: ', auc_score_5a)\n",
    "print(1-auc_score_5a)"
   ]
  },
  {
   "cell_type": "code",
   "execution_count": 36,
   "metadata": {},
   "outputs": [
    {
     "data": {
      "text/plain": [
       "Text(0.5,1,'AUC=0.4883')"
      ]
     },
     "execution_count": 36,
     "metadata": {},
     "output_type": "execute_result"
    },
    {
     "data": {
      "image/png": "[encoded data removed]",
      "text/plain": [
       "<Figure size 432x288 with 1 Axes>"
      ]
     },
     "metadata": {},
     "output_type": "display_data"
    }
   ],
   "source": [
    "import matplotlib.pyplot as plt\n",
    "plt.plot(all_tpr_together_5a, all_fpr_together_5a, 'r', lw=2)\n",
    "plt.plot([0, 1], [0, 1], 'k-', lw=2)\n",
    "plt.xlabel('FPR')\n",
    "plt.ylabel('TPR')\n",
    "plt.title('AUC={}'.format(round(auc_score_5a, 4)))"
   ]
  },
  {
   "cell_type": "markdown",
   "metadata": {},
   "source": [
    "## B. Compute performance metrics for the given data '5_b.csv'\n",
    "<pre>\n",
    "   <b>Note 1:</b> in this data you can see number of positive points << number of negatives points\n",
    "   <b>Note 2:</b> use pandas or numpy to read the data from <b>5_b.csv</b>\n",
    "   <b>Note 3:</b> you need to derive the class labels from given score</pre> $y^{pred}= \\text{[0 if y_score < 0.5 else 1]}$\n",
    "\n",
    "<pre>\n",
    "<ol>\n",
    "<li> Compute Confusion Matrix </li>\n",
    "<li> Compute F1 Score </li>\n",
    "<li> Compute AUC Score, you need to compute different thresholds and for each threshold compute tpr,fpr and then use               numpy.trapz(tpr_array, fpr_array) \n",
    "Note- Make sure that you arrange your probability scores in descending order while calculating AUC</li>\n",
    "<li> Compute Accuracy Score </li>\n",
    "</ol>\n",
    "</pre>"
   ]
  },
  {
   "cell_type": "code",
   "execution_count": 14,
   "metadata": {},
   "outputs": [],
   "source": [
    "df_B = pd.read_csv(r'C:\\Users\\NADEEM\\Music\\Applied course\\Module Notes\\5_b.csv')"
   ]
  },
  {
   "cell_type": "code",
   "execution_count": 15,
   "metadata": {
    "scrolled": true
   },
   "outputs": [
    {
     "data": {
      "text/html": [
       "<div>\n",
       "<style scoped>\n",
       "    .dataframe tbody tr th:only-of-type {\n",
       "        vertical-align: middle;\n",
       "    }\n",
       "\n",
       "    .dataframe tbody tr th {\n",
       "        vertical-align: top;\n",
       "    }\n",
       "\n",
       "    .dataframe thead th {\n",
       "        text-align: right;\n",
       "    }\n",
       "</style>\n",
       "<table border=\"1\" class=\"dataframe\">\n",
       "  <thead>\n",
       "    <tr style=\"text-align: right;\">\n",
       "      <th></th>\n",
       "      <th>y</th>\n",
       "      <th>proba</th>\n",
       "    </tr>\n",
       "  </thead>\n",
       "  <tbody>\n",
       "    <tr>\n",
       "      <th>0</th>\n",
       "      <td>0.0</td>\n",
       "      <td>0.281035</td>\n",
       "    </tr>\n",
       "    <tr>\n",
       "      <th>1</th>\n",
       "      <td>0.0</td>\n",
       "      <td>0.465152</td>\n",
       "    </tr>\n",
       "    <tr>\n",
       "      <th>2</th>\n",
       "      <td>0.0</td>\n",
       "      <td>0.352793</td>\n",
       "    </tr>\n",
       "    <tr>\n",
       "      <th>3</th>\n",
       "      <td>0.0</td>\n",
       "      <td>0.157818</td>\n",
       "    </tr>\n",
       "    <tr>\n",
       "      <th>4</th>\n",
       "      <td>0.0</td>\n",
       "      <td>0.276648</td>\n",
       "    </tr>\n",
       "  </tbody>\n",
       "</table>\n",
       "</div>"
      ],
      "text/plain": [
       "     y     proba\n",
       "0  0.0  0.281035\n",
       "1  0.0  0.465152\n",
       "2  0.0  0.352793\n",
       "3  0.0  0.157818\n",
       "4  0.0  0.276648"
      ]
     },
     "execution_count": 15,
     "metadata": {},
     "output_type": "execute_result"
    }
   ],
   "source": [
    "df_B.head()"
   ]
  },
  {
   "cell_type": "code",
   "execution_count": 16,
   "metadata": {
    "scrolled": false
   },
   "outputs": [
    {
     "data": {
      "text/html": [
       "<div>\n",
       "<style scoped>\n",
       "    .dataframe tbody tr th:only-of-type {\n",
       "        vertical-align: middle;\n",
       "    }\n",
       "\n",
       "    .dataframe tbody tr th {\n",
       "        vertical-align: top;\n",
       "    }\n",
       "\n",
       "    .dataframe thead th {\n",
       "        text-align: right;\n",
       "    }\n",
       "</style>\n",
       "<table border=\"1\" class=\"dataframe\">\n",
       "  <thead>\n",
       "    <tr style=\"text-align: right;\">\n",
       "      <th></th>\n",
       "      <th>y</th>\n",
       "      <th>proba</th>\n",
       "      <th>y_pred_B</th>\n",
       "    </tr>\n",
       "  </thead>\n",
       "  <tbody>\n",
       "    <tr>\n",
       "      <th>0</th>\n",
       "      <td>0.0</td>\n",
       "      <td>0.281035</td>\n",
       "      <td>0</td>\n",
       "    </tr>\n",
       "    <tr>\n",
       "      <th>1</th>\n",
       "      <td>0.0</td>\n",
       "      <td>0.465152</td>\n",
       "      <td>0</td>\n",
       "    </tr>\n",
       "    <tr>\n",
       "      <th>2</th>\n",
       "      <td>0.0</td>\n",
       "      <td>0.352793</td>\n",
       "      <td>0</td>\n",
       "    </tr>\n",
       "    <tr>\n",
       "      <th>3</th>\n",
       "      <td>0.0</td>\n",
       "      <td>0.157818</td>\n",
       "      <td>0</td>\n",
       "    </tr>\n",
       "    <tr>\n",
       "      <th>4</th>\n",
       "      <td>0.0</td>\n",
       "      <td>0.276648</td>\n",
       "      <td>0</td>\n",
       "    </tr>\n",
       "  </tbody>\n",
       "</table>\n",
       "</div>"
      ],
      "text/plain": [
       "     y     proba  y_pred_B\n",
       "0  0.0  0.281035         0\n",
       "1  0.0  0.465152         0\n",
       "2  0.0  0.352793         0\n",
       "3  0.0  0.157818         0\n",
       "4  0.0  0.276648         0"
      ]
     },
     "execution_count": 16,
     "metadata": {},
     "output_type": "execute_result"
    }
   ],
   "source": [
    "t_hold = 0.5\n",
    "df_B['y_pred_B'] = (df_B.proba >= 0.5).astype('int')\n",
    "df_B.head()"
   ]
  },
  {
   "cell_type": "markdown",
   "metadata": {},
   "source": [
    "### Computing Confusion Matrix, F1 Score, Accuracy Score"
   ]
  },
  {
   "cell_type": "code",
   "execution_count": 19,
   "metadata": {},
   "outputs": [
    {
     "name": "stdout",
     "output_type": "stream",
     "text": [
      "TP:  55\n",
      "TN:  9761\n",
      "FP:  239\n",
      "FN:  45\n",
      "Accuracy Score:  97.18811881188118\n",
      "Precision:  0.1870748299319728\n",
      "Recall:  0.55\n",
      "F1_Score:  0.2791878172588833\n"
     ]
    }
   ],
   "source": [
    "TP_C, TN_C, FP_C, FN_C = comp_TP_TN_FP_FN(df_B.y, df_B.y_pred_B)\n",
    "print('TP: ',TP_C)\n",
    "print('TN: ',TN_C)\n",
    "print('FP: ',FP_C)\n",
    "print('FN: ',FN_C)\n",
    "\n",
    "print('Accuracy Score: ',acc_score(TP_C, TN_C, FP_C, FN_C))\n",
    "\n",
    "print('Precision: ',comp_precision(TP_C, FP_C))\n",
    "\n",
    "print(\"Recall: \",comp_recall(TP_C, FN_C))\n",
    "\n",
    "print('F1_Score: ',f_score(df_B.y,df_B.y_pred_B))"
   ]
  },
  {
   "cell_type": "code",
   "execution_count": 38,
   "metadata": {},
   "outputs": [],
   "source": [
    "def get_single_tpr_fpr(df_B):\n",
    "    \n",
    "    tp = ((df_B['y'] == 1.0 ) & (df_B['y_pred_B'] == 1)).sum()\n",
    "    fp = ((df_B['y'] == 0.0 ) & (df_B['y_pred_B'] == 1)).sum()\n",
    "    tn = ((df_B['y'] == 0.0 ) & (df_B['y_pred_B'] == 0)).sum()\n",
    "    fn = ((df_B['y'] == 1.0 ) & (df_B['y_pred_B'] == 0)).sum()\n",
    "\n",
    "    tpr = tp / (tp + fn )\n",
    "    fpr = fp / (fp + tn)\n",
    "\n",
    "    return [tpr, fpr]\n",
    "\n",
    "\n",
    "# While computing AUC score you need to calculate \"TP,\"FP\" at every threshold by using actual \"y\" and predicted \"y_pred\".\n",
    "\n",
    "def calculate_all_thresholds_tpr_fpr_arr(df_B_original):\n",
    "\n",
    "    tpr_arr_for_all_thresholds = []\n",
    "    fpr_arr_for_all_thresholds = []\n",
    "\n",
    "    sorted_df_B = df_B_original.sort_values(by=['proba'], ascending=False)\n",
    "\n",
    "    unique_prob_thres = sorted_df_B['proba'].unique()\n",
    "\n",
    "    for threshold in tqdm(unique_prob_thres):\n",
    "        sorted_df_B['y_pred_B'] = np.where(sorted_df_B['proba'] >= threshold, 1, 0)\n",
    "        tpr_fpr_arr = get_single_tpr_fpr(sorted_df_B)\n",
    "        tpr_arr_for_all_thresholds.append(tpr_fpr_arr[0])\n",
    "        fpr_arr_for_all_thresholds.append(tpr_fpr_arr[1])\n",
    "\n",
    "    return tpr_arr_for_all_thresholds, fpr_arr_for_all_thresholds"
   ]
  },
  {
   "cell_type": "code",
   "execution_count": 39,
   "metadata": {
    "scrolled": true
   },
   "outputs": [
    {
     "name": "stderr",
     "output_type": "stream",
     "text": [
      "100%|███████████████████████████████████████████████████████████████████████████| 10100/10100 [01:10<00:00, 143.61it/s]"
     ]
    },
    {
     "name": "stdout",
     "output_type": "stream",
     "text": [
      "My Custom function ROC-AUC Score for 5b.csv:  0.9377570000000001\n"
     ]
    },
    {
     "name": "stderr",
     "output_type": "stream",
     "text": [
      "\n"
     ]
    }
   ],
   "source": [
    "from tqdm import tqdm\n",
    "all_tpr_together_5b, all_fpr_together_5b = calculate_all_thresholds_tpr_fpr_arr(df_B)\n",
    "auc_score_5b = np.trapz(all_tpr_together_5b, all_fpr_together_5b)\n",
    "print('My Custom function ROC-AUC Score for 5b.csv: ', auc_score_5b)"
   ]
  },
  {
   "cell_type": "code",
   "execution_count": 41,
   "metadata": {},
   "outputs": [
    {
     "data": {
      "text/plain": [
       "Text(0.5,1,'AUC=0.9378')"
      ]
     },
     "execution_count": 41,
     "metadata": {},
     "output_type": "execute_result"
    },
    {
     "data": {
      "image/png": "[encoded data removed]",
      "text/plain": [
       "<Figure size 432x288 with 1 Axes>"
      ]
     },
     "metadata": {},
     "output_type": "display_data"
    }
   ],
   "source": [
    "import matplotlib.pyplot as plt\n",
    "plt.plot(all_fpr_together_5b, all_tpr_together_5b, 'r', lw=2)\n",
    "plt.plot([0, 1], [0, 1], 'k-', lw=2)\n",
    "plt.xlabel('FPR')\n",
    "plt.ylabel('TPR')\n",
    "plt.title('AUC={}'.format(round(auc_score_5b, 4)))"
   ]
  },
  {
   "cell_type": "markdown",
   "metadata": {},
   "source": [
    "### C. Compute the best threshold (similarly to ROC curve computation) of probability which gives lowest values of metric <b>A</b> for the given data \n",
    "<br>\n",
    "\n",
    "you will be predicting label of a data points like this: $y^{pred}= \\text{[0 if y_score < threshold  else 1]}$\n",
    "\n",
    "$ A = 500 \\times \\text{number of false negative} + 100 \\times \\text{numebr of false positive}$\n",
    "\n",
    "<pre>\n",
    "   <b>Note 1:</b> in this data you can see number of negative points > number of positive points\n",
    "   <b>Note 2:</b> use pandas or numpy to read the data from <b>5_c.csv</b>\n",
    "</pre>"
   ]
  },
  {
   "cell_type": "code",
   "execution_count": 37,
   "metadata": {},
   "outputs": [],
   "source": [
    "df_C = pd.read_csv(r\"C:\\Users\\NADEEM\\Music\\Applied course\\Module Notes\\5_c.csv\")"
   ]
  },
  {
   "cell_type": "code",
   "execution_count": 38,
   "metadata": {},
   "outputs": [
    {
     "name": "stdout",
     "output_type": "stream",
     "text": [
      "(2852, 2)\n"
     ]
    },
    {
     "data": {
      "text/html": [
       "<div>\n",
       "<style scoped>\n",
       "    .dataframe tbody tr th:only-of-type {\n",
       "        vertical-align: middle;\n",
       "    }\n",
       "\n",
       "    .dataframe tbody tr th {\n",
       "        vertical-align: top;\n",
       "    }\n",
       "\n",
       "    .dataframe thead th {\n",
       "        text-align: right;\n",
       "    }\n",
       "</style>\n",
       "<table border=\"1\" class=\"dataframe\">\n",
       "  <thead>\n",
       "    <tr style=\"text-align: right;\">\n",
       "      <th></th>\n",
       "      <th>y</th>\n",
       "      <th>prob</th>\n",
       "    </tr>\n",
       "  </thead>\n",
       "  <tbody>\n",
       "    <tr>\n",
       "      <th>0</th>\n",
       "      <td>0</td>\n",
       "      <td>0.458521</td>\n",
       "    </tr>\n",
       "    <tr>\n",
       "      <th>1</th>\n",
       "      <td>0</td>\n",
       "      <td>0.505037</td>\n",
       "    </tr>\n",
       "    <tr>\n",
       "      <th>2</th>\n",
       "      <td>0</td>\n",
       "      <td>0.418652</td>\n",
       "    </tr>\n",
       "    <tr>\n",
       "      <th>3</th>\n",
       "      <td>0</td>\n",
       "      <td>0.412057</td>\n",
       "    </tr>\n",
       "    <tr>\n",
       "      <th>4</th>\n",
       "      <td>0</td>\n",
       "      <td>0.375579</td>\n",
       "    </tr>\n",
       "  </tbody>\n",
       "</table>\n",
       "</div>"
      ],
      "text/plain": [
       "   y      prob\n",
       "0  0  0.458521\n",
       "1  0  0.505037\n",
       "2  0  0.418652\n",
       "3  0  0.412057\n",
       "4  0  0.375579"
      ]
     },
     "execution_count": 38,
     "metadata": {},
     "output_type": "execute_result"
    }
   ],
   "source": [
    "print(df_C.shape)\n",
    "df_C.head()"
   ]
  },
  {
   "cell_type": "code",
   "execution_count": 39,
   "metadata": {},
   "outputs": [
    {
     "name": "stdout",
     "output_type": "stream",
     "text": [
      "actual_y_train  [0 0 0 ... 1 1 1]\n",
      "y_prob_C  [0.45852068 0.50503693 0.41865174 ... 0.65916054 0.45626546 0.65916054]\n"
     ]
    }
   ],
   "source": [
    "actual_y_train= df_C.iloc[:, 0].values\n",
    "print('actual_y_train ', actual_y_train)\n",
    "\n",
    "y_prob_C = df_C.iloc[:, 1].values\n",
    "print('y_prob_C ', y_prob_C)\n",
    "\n",
    "unique_prob_thres_C = np.unique(df_C['prob'])"
   ]
  },
  {
   "cell_type": "code",
   "execution_count": 40,
   "metadata": {},
   "outputs": [],
   "source": [
    "def get_A_metric(y_actual, y_probabilities, threshold):\n",
    "    tp = 0\n",
    "    fp = 0\n",
    "    tn = 0\n",
    "    fn = 0\n",
    "\n",
    "    min_a = float('inf')\n",
    "\n",
    "    for i in range(len(y_probabilities)):\n",
    "        if y_probabilities[i] >= threshold :\n",
    "            if y_actual[i] == 1:\n",
    "                tp += 1\n",
    "            else:\n",
    "                fp += 1\n",
    "\n",
    "        if y_probabilities[i] < threshold:\n",
    "            if y_actual[i] == 0:\n",
    "                tn += 1\n",
    "            else:\n",
    "                fn += 1\n",
    "\n",
    "    A = (500 * fn) + (100 * fp)\n",
    "\n",
    "    return A"
   ]
  },
  {
   "cell_type": "code",
   "execution_count": 41,
   "metadata": {},
   "outputs": [],
   "source": [
    "\n",
    "def get_minimized_a(y_actual, y_probabilities, total_threshold ):\n",
    "  min_a = float('inf')\n",
    "  min_t = 0\n",
    "\n",
    "  for threshold in total_threshold:\n",
    "    a = get_A_metric(y_actual, y_probabilities, threshold)\n",
    "    if a <= min_a:\n",
    "        min_a = min(a, min_a)\n",
    "        min_t = threshold\n",
    "\n",
    "  return min_a, min_t"
   ]
  },
  {
   "cell_type": "code",
   "execution_count": 43,
   "metadata": {},
   "outputs": [
    {
     "name": "stdout",
     "output_type": "stream",
     "text": [
      "(141000, 0.2300390278970873)\n"
     ]
    }
   ],
   "source": [
    "print(get_minimized_a(actual_y_train, y_prob_C, unique_prob_thres_C ))"
   ]
  },
  {
   "cell_type": "markdown",
   "metadata": {},
   "source": [
    "\n",
    "## D.</b></font> Compute performance metrics(for regression) for the given data 5_d.csv\n",
    "<pre>    <b>Note 2:</b> use pandas or numpy to read the data from <b>5_d.csv</b>\n",
    "    <b>Note 1:</b> <b>5_d.csv</b> will having two columns Y and predicted_Y both are real valued features\n",
    "<ol>\n",
    "<li> Compute Mean Square Error </li>\n",
    "<li> Compute MAPE</li>\n",
    "<li> Compute R^2 error</li>\n",
    "</ol>\n",
    "</pre>"
   ]
  },
  {
   "cell_type": "code",
   "execution_count": 103,
   "metadata": {},
   "outputs": [],
   "source": [
    "df_D = pd.read_csv(r\"C:\\Users\\NADEEM\\Music\\Applied course\\Module Notes\\5_d.csv\")"
   ]
  },
  {
   "cell_type": "code",
   "execution_count": 104,
   "metadata": {},
   "outputs": [
    {
     "data": {
      "text/html": [
       "<div>\n",
       "<style scoped>\n",
       "    .dataframe tbody tr th:only-of-type {\n",
       "        vertical-align: middle;\n",
       "    }\n",
       "\n",
       "    .dataframe tbody tr th {\n",
       "        vertical-align: top;\n",
       "    }\n",
       "\n",
       "    .dataframe thead th {\n",
       "        text-align: right;\n",
       "    }\n",
       "</style>\n",
       "<table border=\"1\" class=\"dataframe\">\n",
       "  <thead>\n",
       "    <tr style=\"text-align: right;\">\n",
       "      <th></th>\n",
       "      <th>y</th>\n",
       "      <th>pred</th>\n",
       "    </tr>\n",
       "  </thead>\n",
       "  <tbody>\n",
       "    <tr>\n",
       "      <th>0</th>\n",
       "      <td>101.0</td>\n",
       "      <td>100.0</td>\n",
       "    </tr>\n",
       "    <tr>\n",
       "      <th>1</th>\n",
       "      <td>120.0</td>\n",
       "      <td>100.0</td>\n",
       "    </tr>\n",
       "    <tr>\n",
       "      <th>2</th>\n",
       "      <td>131.0</td>\n",
       "      <td>113.0</td>\n",
       "    </tr>\n",
       "    <tr>\n",
       "      <th>3</th>\n",
       "      <td>164.0</td>\n",
       "      <td>125.0</td>\n",
       "    </tr>\n",
       "    <tr>\n",
       "      <th>4</th>\n",
       "      <td>154.0</td>\n",
       "      <td>152.0</td>\n",
       "    </tr>\n",
       "  </tbody>\n",
       "</table>\n",
       "</div>"
      ],
      "text/plain": [
       "       y   pred\n",
       "0  101.0  100.0\n",
       "1  120.0  100.0\n",
       "2  131.0  113.0\n",
       "3  164.0  125.0\n",
       "4  154.0  152.0"
      ]
     },
     "execution_count": 104,
     "metadata": {},
     "output_type": "execute_result"
    }
   ],
   "source": [
    "df_D.head()"
   ]
  },
  {
   "cell_type": "code",
   "execution_count": 109,
   "metadata": {},
   "outputs": [
    {
     "name": "stdout",
     "output_type": "stream",
     "text": [
      "Actual Value:  [101. 120. 131. ... 106. 105.  81.]\n",
      "Model Output:  [100. 100. 113. ...  93. 101. 104.]\n"
     ]
    }
   ],
   "source": [
    "actual_value= df_D.iloc[:, 0].values\n",
    "print('Actual Value: ', actual_value)\n",
    "\n",
    "model_output = df_D.iloc[:, 1].values\n",
    "print('Model Output: ', model_output)"
   ]
  },
  {
   "cell_type": "markdown",
   "metadata": {},
   "source": [
    "### Calculation of Mean Squared Error (MSE)"
   ]
  },
  {
   "cell_type": "code",
   "execution_count": 110,
   "metadata": {},
   "outputs": [
    {
     "name": "stdout",
     "output_type": "stream",
     "text": [
      "177.16569974554707\n"
     ]
    }
   ],
   "source": [
    "def calc_MSE(y,pred):\n",
    "    MSE = np.mean((y-pred)**2)\n",
    "    return MSE\n",
    "print(calc_MSE(actual_value,model_output))"
   ]
  },
  {
   "cell_type": "markdown",
   "metadata": {},
   "source": [
    "### Calculation of Mean Absolute Percentage Error (MAPE)"
   ]
  },
  {
   "cell_type": "code",
   "execution_count": 113,
   "metadata": {},
   "outputs": [
    {
     "name": "stdout",
     "output_type": "stream",
     "text": [
      "12.912029940096867\n"
     ]
    }
   ],
   "source": [
    "def calc_MAPE(y,pred):\n",
    "    MAPE = np.mean(np.abs(y-pred)/np.mean(y))*100\n",
    "    return MAPE\n",
    "print(calc_MAPE(actual_value,model_output))"
   ]
  },
  {
   "cell_type": "markdown",
   "metadata": {},
   "source": [
    "### Calculation of R2_Error"
   ]
  },
  {
   "cell_type": "code",
   "execution_count": 114,
   "metadata": {},
   "outputs": [
    {
     "name": "stdout",
     "output_type": "stream",
     "text": [
      "0.9563582786990937\n"
     ]
    }
   ],
   "source": [
    "def calc_R2_error(y,pred):\n",
    "    actual_value_mean = y.mean()\n",
    "    SS_res = ((actual_value - model_output)**2).sum()\n",
    "    SS_tot = ((actual_value - actual_value_mean)**2).sum()\n",
    "    R2_error = 1-(SS_res/SS_tot)\n",
    "    return R2_error\n",
    "\n",
    "print(calc_R2_error(actual_value,model_output))"
   ]
  }
 ],
 "metadata": {
  "kernelspec": {
   "display_name": "Python 3",
   "language": "python",
   "name": "python3"
  },
  "language_info": {
   "codemirror_mode": {
    "name": "ipython",
    "version": 3
   },
   "file_extension": ".py",
   "mimetype": "text/x-python",
   "name": "python",
   "nbconvert_exporter": "python",
   "pygments_lexer": "ipython3",
   "version": "3.6.5"
  }
 },
 "nbformat": 4,
 "nbformat_minor": 2
}
